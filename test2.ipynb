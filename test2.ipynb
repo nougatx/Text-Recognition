{
 "cells": [
  {
   "cell_type": "code",
   "execution_count": 2,
   "metadata": {},
   "outputs": [
    {
     "ename": "error",
     "evalue": "OpenCV(4.8.1) D:\\a\\opencv-python\\opencv-python\\opencv\\modules\\highgui\\src\\window.cpp:1272: error: (-2:Unspecified error) The function is not implemented. Rebuild the library with Windows, GTK+ 2.x or Cocoa support. If you are on Ubuntu or Debian, install libgtk2.0-dev and pkg-config, then re-run cmake or configure script in function 'cvShowImage'\n",
     "output_type": "error",
     "traceback": [
      "\u001b[1;31m---------------------------------------------------------------------------\u001b[0m",
      "\u001b[1;31merror\u001b[0m                                     Traceback (most recent call last)",
      "\u001b[1;32mc:\\Users\\Naseeba Rehman\\Documents\\GitHub\\EPGxMoE\\test2.ipynb Cell 1\u001b[0m line \u001b[0;36m2\n\u001b[0;32m     <a href='vscode-notebook-cell:/c%3A/Users/Naseeba%20Rehman/Documents/GitHub/EPGxMoE/test2.ipynb#W0sZmlsZQ%3D%3D?line=20'>21</a>\u001b[0m \u001b[39m# Display the original frame with recognized text\u001b[39;00m\n\u001b[0;32m     <a href='vscode-notebook-cell:/c%3A/Users/Naseeba%20Rehman/Documents/GitHub/EPGxMoE/test2.ipynb#W0sZmlsZQ%3D%3D?line=21'>22</a>\u001b[0m cv2\u001b[39m.\u001b[39mputText(frame, text, (\u001b[39m10\u001b[39m, \u001b[39m30\u001b[39m), cv2\u001b[39m.\u001b[39mFONT_HERSHEY_SIMPLEX, \u001b[39m1\u001b[39m, (\u001b[39m0\u001b[39m, \u001b[39m0\u001b[39m, \u001b[39m255\u001b[39m), \u001b[39m2\u001b[39m)\n\u001b[1;32m---> <a href='vscode-notebook-cell:/c%3A/Users/Naseeba%20Rehman/Documents/GitHub/EPGxMoE/test2.ipynb#W0sZmlsZQ%3D%3D?line=22'>23</a>\u001b[0m cv2\u001b[39m.\u001b[39;49mimshow(\u001b[39m'\u001b[39;49m\u001b[39mText Recognition\u001b[39;49m\u001b[39m'\u001b[39;49m, frame)\n\u001b[0;32m     <a href='vscode-notebook-cell:/c%3A/Users/Naseeba%20Rehman/Documents/GitHub/EPGxMoE/test2.ipynb#W0sZmlsZQ%3D%3D?line=24'>25</a>\u001b[0m \u001b[39m# Press 'q' to exit the loop\u001b[39;00m\n\u001b[0;32m     <a href='vscode-notebook-cell:/c%3A/Users/Naseeba%20Rehman/Documents/GitHub/EPGxMoE/test2.ipynb#W0sZmlsZQ%3D%3D?line=25'>26</a>\u001b[0m \u001b[39mif\u001b[39;00m cv2\u001b[39m.\u001b[39mwaitKey(\u001b[39m1\u001b[39m) \u001b[39m&\u001b[39m \u001b[39m0xFF\u001b[39m \u001b[39m==\u001b[39m \u001b[39mord\u001b[39m(\u001b[39m'\u001b[39m\u001b[39mq\u001b[39m\u001b[39m'\u001b[39m):\n",
      "\u001b[1;31merror\u001b[0m: OpenCV(4.8.1) D:\\a\\opencv-python\\opencv-python\\opencv\\modules\\highgui\\src\\window.cpp:1272: error: (-2:Unspecified error) The function is not implemented. Rebuild the library with Windows, GTK+ 2.x or Cocoa support. If you are on Ubuntu or Debian, install libgtk2.0-dev and pkg-config, then re-run cmake or configure script in function 'cvShowImage'\n"
     ]
    }
   ],
   "source": [
    "#this uses pc camera\n",
    "import cv2\n",
    "import pytesseract\n",
    "\n",
    "# Mention the installed location of Tesseract-OCR in your system\n",
    "pytesseract.pytesseract.tesseract_cmd = r'C:\\Program Files\\Tesseract-OCR\\tesseract.exe'\n",
    "\n",
    "# Initialize the camera\n",
    "cap = cv2.VideoCapture(0)  # 0 represents the default camera (usually the built-in webcam)\n",
    "\n",
    "while True:\n",
    "    # Read a frame from the camera\n",
    "    ret, frame = cap.read()\n",
    "\n",
    "    # Convert the frame to grayscale (optional but can improve OCR accuracy)\n",
    "    gray = cv2.cvtColor(frame, cv2.COLOR_BGR2GRAY)\n",
    "\n",
    "    # Perform text recognition on the frame\n",
    "    text = pytesseract.image_to_string(gray)\n",
    "\n",
    "    # Display the original frame with recognized text\n",
    "    cv2.putText(frame, text, (10, 30), cv2.FONT_HERSHEY_SIMPLEX, 1, (0, 0, 255), 2)\n",
    "    cv2.imshow('Text Recognition', frame)\n",
    "\n",
    "    # Press 'q' to exit the loop\n",
    "    if cv2.waitKey(1) & 0xFF == ord('q'):\n",
    "        break\n",
    "\n",
    "# Release the camera and close OpenCV windows\n",
    "cap.release()\n",
    "cv2.destroyAllWindows()\n"
   ]
  },
  {
   "cell_type": "code",
   "execution_count": 1,
   "metadata": {},
   "outputs": [
    {
     "ename": "error",
     "evalue": "OpenCV(4.8.1) D:\\a\\opencv-python\\opencv-python\\opencv\\modules\\highgui\\src\\window.cpp:1272: error: (-2:Unspecified error) The function is not implemented. Rebuild the library with Windows, GTK+ 2.x or Cocoa support. If you are on Ubuntu or Debian, install libgtk2.0-dev and pkg-config, then re-run cmake or configure script in function 'cvShowImage'\n",
     "output_type": "error",
     "traceback": [
      "\u001b[1;31m---------------------------------------------------------------------------\u001b[0m",
      "\u001b[1;31merror\u001b[0m                                     Traceback (most recent call last)",
      "\u001b[1;32mc:\\Users\\Naseeba Rehman\\Documents\\GitHub\\EPGxMoE\\test2.ipynb Cell 2\u001b[0m line \u001b[0;36m3\n\u001b[0;32m     <a href='vscode-notebook-cell:/c%3A/Users/Naseeba%20Rehman/Documents/GitHub/EPGxMoE/test2.ipynb#W1sZmlsZQ%3D%3D?line=28'>29</a>\u001b[0m \u001b[39m# Display the original frame with recognized text\u001b[39;00m\n\u001b[0;32m     <a href='vscode-notebook-cell:/c%3A/Users/Naseeba%20Rehman/Documents/GitHub/EPGxMoE/test2.ipynb#W1sZmlsZQ%3D%3D?line=29'>30</a>\u001b[0m cv2\u001b[39m.\u001b[39mputText(frame, text, (\u001b[39m10\u001b[39m, \u001b[39m30\u001b[39m), cv2\u001b[39m.\u001b[39mFONT_HERSHEY_SIMPLEX, \u001b[39m1\u001b[39m, (\u001b[39m0\u001b[39m, \u001b[39m0\u001b[39m, \u001b[39m255\u001b[39m), \u001b[39m2\u001b[39m)\n\u001b[1;32m---> <a href='vscode-notebook-cell:/c%3A/Users/Naseeba%20Rehman/Documents/GitHub/EPGxMoE/test2.ipynb#W1sZmlsZQ%3D%3D?line=30'>31</a>\u001b[0m cv2\u001b[39m.\u001b[39;49mimshow(\u001b[39m'\u001b[39;49m\u001b[39mText Recognition\u001b[39;49m\u001b[39m'\u001b[39;49m, frame)\n\u001b[0;32m     <a href='vscode-notebook-cell:/c%3A/Users/Naseeba%20Rehman/Documents/GitHub/EPGxMoE/test2.ipynb#W1sZmlsZQ%3D%3D?line=32'>33</a>\u001b[0m \u001b[39m# cv2.imshow('Camera Stream', frame)\u001b[39;00m\n\u001b[0;32m     <a href='vscode-notebook-cell:/c%3A/Users/Naseeba%20Rehman/Documents/GitHub/EPGxMoE/test2.ipynb#W1sZmlsZQ%3D%3D?line=34'>35</a>\u001b[0m \u001b[39mif\u001b[39;00m cv2\u001b[39m.\u001b[39mwaitKey(\u001b[39m1\u001b[39m) \u001b[39m==\u001b[39m \u001b[39mord\u001b[39m(\u001b[39m'\u001b[39m\u001b[39mq\u001b[39m\u001b[39m'\u001b[39m):\n",
      "\u001b[1;31merror\u001b[0m: OpenCV(4.8.1) D:\\a\\opencv-python\\opencv-python\\opencv\\modules\\highgui\\src\\window.cpp:1272: error: (-2:Unspecified error) The function is not implemented. Rebuild the library with Windows, GTK+ 2.x or Cocoa support. If you are on Ubuntu or Debian, install libgtk2.0-dev and pkg-config, then re-run cmake or configure script in function 'cvShowImage'\n"
     ]
    }
   ],
   "source": [
    "#this uses phone cam\n",
    "import cv2\n",
    "import pytesseract\n",
    "\n",
    "# Mention the installed location of Tesseract-OCR in your system\n",
    "pytesseract.pytesseract.tesseract_cmd = r'C:\\Program Files\\Tesseract-OCR\\tesseract.exe'\n",
    "\n",
    "capture = cv2.VideoCapture('http://192.168.1.102:4747/video')\n",
    "\n",
    "while True:\n",
    "    ret, frame = capture.read()\n",
    "\n",
    "    #Check if a frame was successfully captured\n",
    "    if not ret:\n",
    "        print(\"Failed to capture frame.\")\n",
    "        break\n",
    "\n",
    "    #Check if the frame has valid dimensions\n",
    "    if frame.shape[0] == 0 or frame.shape[1] == 0:\n",
    "        print(\"Invalid frame dimensions.\")\n",
    "        break\n",
    "\n",
    "    #Convert the frame to grayscale (optional but can improve OCR accuracy)\n",
    "    gray = cv2.cvtColor(frame, cv2.COLOR_BGR2GRAY)\n",
    "\n",
    "    #text recognition on the frame\n",
    "    text = pytesseract.image_to_string(gray)\n",
    "    #Display the original frame with recognized text\n",
    "    cv2.putText(frame, text, (10, 30), cv2.FONT_HERSHEY_SIMPLEX, 1, (0, 0, 255), 2)\n",
    "    cv2.imshow('Text Recognition', frame)\n",
    "\n",
    "    # cv2.imshow('Camera Stream', frame)\n",
    "\n",
    "    if cv2.waitKey(1) == ord('q'):\n",
    "        break\n",
    "\n",
    "capture.release()\n",
    "cv2.destroyAllWindows()"
   ]
  },
  {
   "cell_type": "code",
   "execution_count": 1,
   "metadata": {},
   "outputs": [],
   "source": [
    "#make this code run faster?\n",
    "import cv2\n",
    "import pytesseract\n",
    "\n",
    "pytesseract.pytesseract.tesseract_cmd = r'C:\\Program Files\\Tesseract-OCR\\tesseract.exe'\n",
    "\n",
    "\n",
    "cap = cv2.VideoCapture('http://192.168.1.102:4747/video')\n",
    "\n",
    "while True:\n",
    "    ret, frame = cap.read()\n",
    "    frame = cv2.resize(frame, None, fx=0.5, fy=0.5)  # Resize the frame (adjust as needed)\n",
    "\n",
    "    gray = cv2.cvtColor(frame, cv2.COLOR_BGR2GRAY)\n",
    "    text = pytesseract.image_to_string(gray)\n",
    "\n",
    "    cv2.putText(frame, text, (10, 30), cv2.FONT_HERSHEY_SIMPLEX, 1, (0, 0, 255), 2)\n",
    "    cv2.imshow('Text Recognition', frame)\n",
    "\n",
    "    if cv2.waitKey(1) & 0xFF == ord('q'):\n",
    "        break\n",
    "\n",
    "cap.release()\n",
    "cv2.destroyAllWindows()\n"
   ]
  },
  {
   "cell_type": "code",
   "execution_count": 1,
   "metadata": {},
   "outputs": [
    {
     "name": "stderr",
     "output_type": "stream",
     "text": [
      "Neither CUDA nor MPS are available - defaulting to CPU. Note: This module is much faster with a GPU.\n"
     ]
    },
    {
     "ename": "error",
     "evalue": "OpenCV(4.8.1) :-1: error: (-5:Bad argument) in function 'putText'\n> Overload resolution failed:\n>  - Can't parse 'org'. Sequence item with index 0 has a wrong type\n>  - Can't parse 'org'. Sequence item with index 0 has a wrong type\n",
     "output_type": "error",
     "traceback": [
      "\u001b[1;31m---------------------------------------------------------------------------\u001b[0m",
      "\u001b[1;31merror\u001b[0m                                     Traceback (most recent call last)",
      "\u001b[1;32mc:\\Users\\Naseeba Rehman\\Documents\\GitHub\\EPGxMoE\\test2.ipynb Cell 4\u001b[0m line \u001b[0;36m1\n\u001b[0;32m     <a href='vscode-notebook-cell:/c%3A/Users/Naseeba%20Rehman/Documents/GitHub/EPGxMoE/test2.ipynb#W3sZmlsZQ%3D%3D?line=12'>13</a>\u001b[0m text \u001b[39m=\u001b[39m reader\u001b[39m.\u001b[39mreadtext(frame)\n\u001b[0;32m     <a href='vscode-notebook-cell:/c%3A/Users/Naseeba%20Rehman/Documents/GitHub/EPGxMoE/test2.ipynb#W3sZmlsZQ%3D%3D?line=14'>15</a>\u001b[0m \u001b[39mfor\u001b[39;00m detection \u001b[39min\u001b[39;00m text:\n\u001b[1;32m---> <a href='vscode-notebook-cell:/c%3A/Users/Naseeba%20Rehman/Documents/GitHub/EPGxMoE/test2.ipynb#W3sZmlsZQ%3D%3D?line=15'>16</a>\u001b[0m     cv2\u001b[39m.\u001b[39;49mputText(frame, detection[\u001b[39m1\u001b[39;49m], (detection[\u001b[39m0\u001b[39;49m][\u001b[39m0\u001b[39;49m], detection[\u001b[39m0\u001b[39;49m][\u001b[39m1\u001b[39;49m]), cv2\u001b[39m.\u001b[39;49mFONT_HERSHEY_SIMPLEX, \u001b[39m1\u001b[39;49m, (\u001b[39m0\u001b[39;49m, \u001b[39m0\u001b[39;49m, \u001b[39m255\u001b[39;49m), \u001b[39m2\u001b[39;49m)\n\u001b[0;32m     <a href='vscode-notebook-cell:/c%3A/Users/Naseeba%20Rehman/Documents/GitHub/EPGxMoE/test2.ipynb#W3sZmlsZQ%3D%3D?line=17'>18</a>\u001b[0m cv2\u001b[39m.\u001b[39mimshow(\u001b[39m'\u001b[39m\u001b[39mText Recognition\u001b[39m\u001b[39m'\u001b[39m, frame)\n\u001b[0;32m     <a href='vscode-notebook-cell:/c%3A/Users/Naseeba%20Rehman/Documents/GitHub/EPGxMoE/test2.ipynb#W3sZmlsZQ%3D%3D?line=19'>20</a>\u001b[0m \u001b[39mif\u001b[39;00m cv2\u001b[39m.\u001b[39mwaitKey(\u001b[39m1\u001b[39m) \u001b[39m&\u001b[39m \u001b[39m0xFF\u001b[39m \u001b[39m==\u001b[39m \u001b[39mord\u001b[39m(\u001b[39m'\u001b[39m\u001b[39mq\u001b[39m\u001b[39m'\u001b[39m):\n",
      "\u001b[1;31merror\u001b[0m: OpenCV(4.8.1) :-1: error: (-5:Bad argument) in function 'putText'\n> Overload resolution failed:\n>  - Can't parse 'org'. Sequence item with index 0 has a wrong type\n>  - Can't parse 'org'. Sequence item with index 0 has a wrong type\n"
     ]
    },
    {
     "ename": "",
     "evalue": "",
     "output_type": "error",
     "traceback": [
      "\u001b[1;31mThe Kernel crashed while executing code in the the current cell or a previous cell. Please review the code in the cell(s) to identify a possible cause of the failure. Click <a href='https://aka.ms/vscodeJupyterKernelCrash'>here</a> for more info. View Jupyter <a href='command:jupyter.viewOutput'>log</a> for further details."
     ]
    }
   ],
   "source": [
    "#supposedly faster by blackboxai\n",
    "import cv2\n",
    "import easyocr\n",
    "\n",
    "reader = easyocr.Reader(['en'])\n",
    "\n",
    "cap = cv2.VideoCapture('http://192.168.1.102:4747/video')\n",
    "\n",
    "while True:\n",
    "    ret, frame = cap.read()\n",
    "    frame = cv2.resize(frame, None, fx=0.5, fy=0.5) # Resize the frame (adjust as needed)\n",
    "\n",
    "    text = reader.readtext(frame)\n",
    "\n",
    "    for detection in text:\n",
    "        cv2.putText(frame, detection[1], (detection[0][0], detection[0][1]), cv2.FONT_HERSHEY_SIMPLEX, 1, (0, 0, 255), 2)\n",
    "\n",
    "    cv2.imshow('Text Recognition', frame)\n",
    "\n",
    "    if cv2.waitKey(1) & 0xFF == ord('q'):\n",
    "        break\n",
    "\n",
    "cap.release()\n",
    "cv2.destroyAllWindows()"
   ]
  }
 ],
 "metadata": {
  "kernelspec": {
   "display_name": "Python 3",
   "language": "python",
   "name": "python3"
  },
  "language_info": {
   "codemirror_mode": {
    "name": "ipython",
    "version": 3
   },
   "file_extension": ".py",
   "mimetype": "text/x-python",
   "name": "python",
   "nbconvert_exporter": "python",
   "pygments_lexer": "ipython3",
   "version": "3.11.1"
  }
 },
 "nbformat": 4,
 "nbformat_minor": 2
}
