{
 "cells": [
  {
   "cell_type": "code",
   "execution_count": 1,
   "metadata": {},
   "outputs": [
    {
     "name": "stdout",
     "output_type": "stream",
     "text": [
      "Leavenworth, Washington is loc:\n",
      "on Highway\n",
      "id special evel\n",
      "\n",
      "Sausage Fest,\n",
      "\n",
      "LD unow the Town MoesU'T Lom cing THIS\n",
      "\n",
      "Eva RasHa\n",
      "\n",
      "Tee Greens 6™ sreses,\n",
      "\n",
      "Rigur Now But you SAID ChRigtAks WAS Youk\n",
      "\n",
      "FAVORITE $0 THe yo Go. APT vue v\n",
      "\n",
      "Huee Mike, Acux awo TD awe seewt. The\n",
      "\n",
      "Views ur THe Wute Just SPEcTAcUan- Al A@ta 3, ner 3.09,\n",
      "\n",
      "Ao Pewayy Co wisn I covto Mave vou\n",
      "\n",
      "QuBal UAE\n",
      "\n",
      "BY pny SWE, THoveu yor Miour Kite Me\n",
      "\n",
      "(= LZ Gvee Mid tro thes wy - Acex\n",
      "\n",
      "Atrosr owt\n",
      "i Stee Missive YO7,\n",
      "\n",
      "vy Andy Jaynes LC104\n",
      "‘by: www.gibbs-graphies.com\n",
      "\n",
      "Giss\n",
      "\n",
      "\n"
     ]
    }
   ],
   "source": [
    "import pytesseract\n",
    "from PIL import Image\n",
    "import cv2\n",
    "import numpy as np\n",
    "\n",
    "# Mention the installed location of Tesseract-OCR in your system\n",
    "pytesseract.pytesseract.tesseract_cmd = r'C:\\Program Files\\Tesseract-OCR\\tesseract.exe'\n",
    "\n",
    "# img = cv2.imread('eva.jpeg')\n",
    "# cv2.imshow('eva', img)\n",
    "# cv2.waitKey(0)\n",
    "# cv2.destroyAllWindows()\n",
    "img1 = np.array(Image.open('eva.jpeg'))\n",
    "text = pytesseract.image_to_string(img1)\n",
    "print(text)"
   ]
  }
 ],
 "metadata": {
  "kernelspec": {
   "display_name": "Python 3",
   "language": "python",
   "name": "python3"
  },
  "language_info": {
   "codemirror_mode": {
    "name": "ipython",
    "version": 3
   },
   "file_extension": ".py",
   "mimetype": "text/x-python",
   "name": "python",
   "nbconvert_exporter": "python",
   "pygments_lexer": "ipython3",
   "version": "3.11.1"
  },
  "orig_nbformat": 4
 },
 "nbformat": 4,
 "nbformat_minor": 2
}
