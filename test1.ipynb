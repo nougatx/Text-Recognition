{
 "cells": [
  {
   "cell_type": "code",
   "execution_count": 1,
   "metadata": {},
   "outputs": [
    {
     "name": "stdout",
     "output_type": "stream",
     "text": [
      "Leavenworth, Washington is loc:\n",
      "on Highway\n",
      "id special evel\n",
      "\n",
      "Sausage Fest,\n",
      "\n",
      "LD unow the Town MoesU'T Lom cing THIS\n",
      "\n",
      "Eva RasHa\n",
      "\n",
      "Tee Greens 6™ sreses,\n",
      "\n",
      "Rigur Now But you SAID ChRigtAks WAS Youk\n",
      "\n",
      "FAVORITE $0 THe yo Go. APT vue v\n",
      "\n",
      "Huee Mike, Acux awo TD awe seewt. The\n",
      "\n",
      "Views ur THe Wute Just SPEcTAcUan- Al A@ta 3, ner 3.09,\n",
      "\n",
      "Ao Pewayy Co wisn I covto Mave vou\n",
      "\n",
      "QuBal UAE\n",
      "\n",
      "BY pny SWE, THoveu yor Miour Kite Me\n",
      "\n",
      "(= LZ Gvee Mid tro thes wy - Acex\n",
      "\n",
      "Atrosr owt\n",
      "i Stee Missive YO7,\n",
      "\n",
      "vy Andy Jaynes LC104\n",
      "‘by: www.gibbs-graphies.com\n",
      "\n",
      "Giss\n",
      "\n",
      "\n"
     ]
    }
   ],
   "source": [
    "import pytesseract\n",
    "from PIL import Image\n",
    "import cv2\n",
    "import numpy as np\n",
    "\n",
    "# Mention the installed location of Tesseract-OCR in your system\n",
    "pytesseract.pytesseract.tesseract_cmd = r'C:\\Program Files\\Tesseract-OCR\\tesseract.exe'\n",
    "\n",
    "# img = cv2.imread('eva.jpeg')\n",
    "# cv2.imshow('eva', img)\n",
    "# cv2.waitKey(0)\n",
    "# cv2.destroyAllWindows()\n",
    "img1 = np.array(Image.open('eva.jpeg'))\n",
    "text = pytesseract.image_to_string(img1)\n",
    "print(text)"
   ]
  },
  {
   "cell_type": "code",
   "execution_count": 8,
   "metadata": {},
   "outputs": [
    {
     "name": "stdout",
     "output_type": "stream",
     "text": [
      "['Leavenworth', 'Washington', 'LD', 'pny SWE']\n",
      "Washington, District of Columbia, United States\n"
     ]
    }
   ],
   "source": [
    "import spacy\n",
    "import pytesseract\n",
    "from PIL import Image\n",
    "import cv2\n",
    "import numpy as np\n",
    "from geopy.geocoders import Nominatim\n",
    "\n",
    "#calling the Nominatim tool\n",
    "loc = Nominatim(user_agent=\"GetLoc\")\n",
    "\n",
    "# Mention the installed location of Tesseract-OCR in your system\n",
    "pytesseract.pytesseract.tesseract_cmd = r'C:\\Program Files\\Tesseract-OCR\\tesseract.exe'\n",
    "\n",
    "img1 = np.array(Image.open('eva.jpeg'))\n",
    "text1 = pytesseract.image_to_string(img1)\n",
    "# print(text1)\n",
    "\n",
    "# Load the English language model\n",
    "nlp = spacy.load('en_core_web_sm')\n",
    "\n",
    "\n",
    "# Process the input text with spaCy\n",
    "doc = nlp(text1)\n",
    "# Extract location (GPE: Geo-Political Entity) named entities\n",
    "place_names = [ent.text for ent in doc.ents if ent.label_ == 'GPE']\n",
    "print(place_names)\n",
    "getLoc = loc.geocode(place_names[1])\n",
    "print(getLoc.address)\n",
    "\n",
    "\n",
    "# for i in place_names:\n",
    "#     getLoc = loc.geocode(place_names[i])\n",
    "#     country = getLoc.address\n",
    "#     print(country)\n",
    "\n"
   ]
  },
  {
   "cell_type": "code",
   "execution_count": 5,
   "metadata": {},
   "outputs": [
    {
     "ename": "ImportError",
     "evalue": "cannot import name util",
     "output_type": "error",
     "traceback": [
      "\u001b[1;31m---------------------------------------------------------------------------\u001b[0m",
      "\u001b[1;31mImportError\u001b[0m                               Traceback (most recent call last)",
      "\u001b[1;32mc:\\Users\\Naseeba Rehman\\Documents\\GitHub\\EPGxMoE\\test1.ipynb Cell 3\u001b[0m line \u001b[0;36m6\n\u001b[0;32m      <a href='vscode-notebook-cell:/c%3A/Users/Naseeba%20Rehman/Documents/GitHub/EPGxMoE/test1.ipynb#W2sZmlsZQ%3D%3D?line=3'>4</a>\u001b[0m \u001b[39mimport\u001b[39;00m \u001b[39mcv2\u001b[39;00m\n\u001b[0;32m      <a href='vscode-notebook-cell:/c%3A/Users/Naseeba%20Rehman/Documents/GitHub/EPGxMoE/test1.ipynb#W2sZmlsZQ%3D%3D?line=4'>5</a>\u001b[0m \u001b[39mimport\u001b[39;00m \u001b[39mnumpy\u001b[39;00m \u001b[39mas\u001b[39;00m \u001b[39mnp\u001b[39;00m\n\u001b[1;32m----> <a href='vscode-notebook-cell:/c%3A/Users/Naseeba%20Rehman/Documents/GitHub/EPGxMoE/test1.ipynb#W2sZmlsZQ%3D%3D?line=5'>6</a>\u001b[0m \u001b[39mimport\u001b[39;00m \u001b[39mspacy\u001b[39;00m\n\u001b[0;32m      <a href='vscode-notebook-cell:/c%3A/Users/Naseeba%20Rehman/Documents/GitHub/EPGxMoE/test1.ipynb#W2sZmlsZQ%3D%3D?line=7'>8</a>\u001b[0m \u001b[39mdef\u001b[39;00m \u001b[39mget_country_from_city\u001b[39m(city_name):\n\u001b[0;32m      <a href='vscode-notebook-cell:/c%3A/Users/Naseeba%20Rehman/Documents/GitHub/EPGxMoE/test1.ipynb#W2sZmlsZQ%3D%3D?line=8'>9</a>\u001b[0m     \u001b[39m# Initialize the Nominatim geocoder\u001b[39;00m\n\u001b[0;32m     <a href='vscode-notebook-cell:/c%3A/Users/Naseeba%20Rehman/Documents/GitHub/EPGxMoE/test1.ipynb#W2sZmlsZQ%3D%3D?line=9'>10</a>\u001b[0m     geolocator \u001b[39m=\u001b[39m Nominatim(user_agent\u001b[39m=\u001b[39m\u001b[39m\"\u001b[39m\u001b[39mcity-to-country\u001b[39m\u001b[39m\"\u001b[39m)\n",
      "File \u001b[1;32mc:\\Users\\Naseeba Rehman\\AppData\\Local\\Programs\\Python\\Python311\\Lib\\site-packages\\spacy\\__init__.py:13\u001b[0m\n\u001b[0;32m     10\u001b[0m \u001b[39m# These are imported as part of the API\u001b[39;00m\n\u001b[0;32m     11\u001b[0m \u001b[39mfrom\u001b[39;00m \u001b[39mthinc\u001b[39;00m\u001b[39m.\u001b[39;00m\u001b[39mapi\u001b[39;00m \u001b[39mimport\u001b[39;00m Config, prefer_gpu, require_cpu, require_gpu  \u001b[39m# noqa: F401\u001b[39;00m\n\u001b[1;32m---> 13\u001b[0m \u001b[39mfrom\u001b[39;00m \u001b[39m.\u001b[39;00m \u001b[39mimport\u001b[39;00m pipeline  \u001b[39m# noqa: F401\u001b[39;00m\n\u001b[0;32m     14\u001b[0m \u001b[39mfrom\u001b[39;00m \u001b[39m.\u001b[39;00m \u001b[39mimport\u001b[39;00m util\n\u001b[0;32m     15\u001b[0m \u001b[39mfrom\u001b[39;00m \u001b[39m.\u001b[39;00m\u001b[39mabout\u001b[39;00m \u001b[39mimport\u001b[39;00m __version__  \u001b[39m# noqa: F401\u001b[39;00m\n",
      "File \u001b[1;32mc:\\Users\\Naseeba Rehman\\AppData\\Local\\Programs\\Python\\Python311\\Lib\\site-packages\\spacy\\pipeline\\__init__.py:1\u001b[0m\n\u001b[1;32m----> 1\u001b[0m \u001b[39mfrom\u001b[39;00m \u001b[39m.\u001b[39;00m\u001b[39mattributeruler\u001b[39;00m \u001b[39mimport\u001b[39;00m AttributeRuler\n\u001b[0;32m      2\u001b[0m \u001b[39mfrom\u001b[39;00m \u001b[39m.\u001b[39;00m\u001b[39mdep_parser\u001b[39;00m \u001b[39mimport\u001b[39;00m DependencyParser\n\u001b[0;32m      3\u001b[0m \u001b[39mfrom\u001b[39;00m \u001b[39m.\u001b[39;00m\u001b[39medit_tree_lemmatizer\u001b[39;00m \u001b[39mimport\u001b[39;00m EditTreeLemmatizer\n",
      "File \u001b[1;32mc:\\Users\\Naseeba Rehman\\AppData\\Local\\Programs\\Python\\Python311\\Lib\\site-packages\\spacy\\pipeline\\attributeruler.py:8\u001b[0m\n\u001b[0;32m      6\u001b[0m \u001b[39mfrom\u001b[39;00m \u001b[39m.\u001b[39;00m\u001b[39m.\u001b[39;00m \u001b[39mimport\u001b[39;00m util\n\u001b[0;32m      7\u001b[0m \u001b[39mfrom\u001b[39;00m \u001b[39m.\u001b[39;00m\u001b[39m.\u001b[39;00m\u001b[39merrors\u001b[39;00m \u001b[39mimport\u001b[39;00m Errors\n\u001b[1;32m----> 8\u001b[0m \u001b[39mfrom\u001b[39;00m \u001b[39m.\u001b[39;00m\u001b[39m.\u001b[39;00m\u001b[39mlanguage\u001b[39;00m \u001b[39mimport\u001b[39;00m Language\n\u001b[0;32m      9\u001b[0m \u001b[39mfrom\u001b[39;00m \u001b[39m.\u001b[39;00m\u001b[39m.\u001b[39;00m\u001b[39mmatcher\u001b[39;00m \u001b[39mimport\u001b[39;00m Matcher\n\u001b[0;32m     10\u001b[0m \u001b[39mfrom\u001b[39;00m \u001b[39m.\u001b[39;00m\u001b[39m.\u001b[39;00m\u001b[39mscorer\u001b[39;00m \u001b[39mimport\u001b[39;00m Scorer\n",
      "File \u001b[1;32mc:\\Users\\Naseeba Rehman\\AppData\\Local\\Programs\\Python\\Python311\\Lib\\site-packages\\spacy\\language.py:52\u001b[0m\n\u001b[0;32m     44\u001b[0m \u001b[39mfrom\u001b[39;00m \u001b[39m.\u001b[39;00m\u001b[39mschemas\u001b[39;00m \u001b[39mimport\u001b[39;00m (\n\u001b[0;32m     45\u001b[0m     ConfigSchema,\n\u001b[0;32m     46\u001b[0m     ConfigSchemaInit,\n\u001b[1;32m   (...)\u001b[0m\n\u001b[0;32m     49\u001b[0m     validate_init_settings,\n\u001b[0;32m     50\u001b[0m )\n\u001b[0;32m     51\u001b[0m \u001b[39mfrom\u001b[39;00m \u001b[39m.\u001b[39;00m\u001b[39mscorer\u001b[39;00m \u001b[39mimport\u001b[39;00m Scorer\n\u001b[1;32m---> 52\u001b[0m \u001b[39mfrom\u001b[39;00m \u001b[39m.\u001b[39;00m\u001b[39mtokenizer\u001b[39;00m \u001b[39mimport\u001b[39;00m Tokenizer\n\u001b[0;32m     53\u001b[0m \u001b[39mfrom\u001b[39;00m \u001b[39m.\u001b[39;00m\u001b[39mtokens\u001b[39;00m \u001b[39mimport\u001b[39;00m Doc\n\u001b[0;32m     54\u001b[0m \u001b[39mfrom\u001b[39;00m \u001b[39m.\u001b[39;00m\u001b[39mtokens\u001b[39;00m\u001b[39m.\u001b[39;00m\u001b[39munderscore\u001b[39;00m \u001b[39mimport\u001b[39;00m Underscore\n",
      "File \u001b[1;32mc:\\Users\\Naseeba Rehman\\AppData\\Local\\Programs\\Python\\Python311\\Lib\\site-packages\\spacy\\tokenizer.pyx:15\u001b[0m, in \u001b[0;36minit spacy.tokenizer\u001b[1;34m()\u001b[0m\n",
      "\u001b[1;31mImportError\u001b[0m: cannot import name util"
     ]
    }
   ],
   "source": [
    "from geopy.geocoders import Nominatim\n",
    "import pytesseract\n",
    "from PIL import Image\n",
    "import cv2\n",
    "import numpy as np\n",
    "import spacy\n",
    "\n",
    "def get_country_from_city(city_name):\n",
    "    # Initialize the Nominatim geocoder\n",
    "    geolocator = Nominatim(user_agent=\"city-to-country\")\n",
    "\n",
    "    # Geocode the city to obtain its coordinates\n",
    "    location = geolocator.geocode(city_name, language='en')\n",
    "\n",
    "    if location:\n",
    "        # Reverse geocode the coordinates to get the country name\n",
    "        country = geolocator.reverse((location.latitude, location.longitude), language='en').raw.get('address', {}).get('country')\n",
    "        return country\n",
    "    else:\n",
    "        print(f\"Could not geocode the city: {city_name}\")\n",
    "        return None\n",
    "\n",
    "# Mention the installed location of Tesseract-OCR in your system\n",
    "pytesseract.pytesseract.tesseract_cmd = r'C:\\Program Files\\Tesseract-OCR\\tesseract.exe'\n",
    "\n",
    "img1 = np.array(Image.open('postmaster.jpg'))\n",
    "text1 = pytesseract.image_to_string(img1)\n",
    "# print(text1)\n",
    "\n",
    "# Load the English language model\n",
    "nlp = spacy.load('en_core_web_sm')\n",
    "\n",
    "# Process the input text with spaCy\n",
    "doc = nlp(text1)\n",
    "\n",
    "place_names = [ent.text for ent in doc.ents if ent.label_ == 'GPE']\n",
    "\n",
    "for city_name in place_names:\n",
    "    # Get the country for the given city\n",
    "    country = get_country_from_city(city_name)\n",
    "\n",
    "    # Print the country name\n",
    "    if country:\n",
    "        print(f\"{city_name} : {country}\")\n",
    "    else:\n",
    "        print(\"Country not found.\")\n"
   ]
  }
 ],
 "metadata": {
  "kernelspec": {
   "display_name": "Python 3",
   "language": "python",
   "name": "python3"
  },
  "language_info": {
   "codemirror_mode": {
    "name": "ipython",
    "version": 3
   },
   "file_extension": ".py",
   "mimetype": "text/x-python",
   "name": "python",
   "nbconvert_exporter": "python",
   "pygments_lexer": "ipython3",
   "version": "3.11.1"
  },
  "orig_nbformat": 4
 },
 "nbformat": 4,
 "nbformat_minor": 2
}
