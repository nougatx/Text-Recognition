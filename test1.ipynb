{
 "cells": [
  {
   "cell_type": "code",
   "execution_count": 1,
   "metadata": {},
   "outputs": [
    {
     "name": "stdout",
     "output_type": "stream",
     "text": [
      "Leavenworth, Washington is loc:\n",
      "on Highway\n",
      "id special evel\n",
      "\n",
      "Sausage Fest,\n",
      "\n",
      "LD unow the Town MoesU'T Lom cing THIS\n",
      "\n",
      "Eva RasHa\n",
      "\n",
      "Tee Greens 6™ sreses,\n",
      "\n",
      "Rigur Now But you SAID ChRigtAks WAS Youk\n",
      "\n",
      "FAVORITE $0 THe yo Go. APT vue v\n",
      "\n",
      "Huee Mike, Acux awo TD awe seewt. The\n",
      "\n",
      "Views ur THe Wute Just SPEcTAcUan- Al A@ta 3, ner 3.09,\n",
      "\n",
      "Ao Pewayy Co wisn I covto Mave vou\n",
      "\n",
      "QuBal UAE\n",
      "\n",
      "BY pny SWE, THoveu yor Miour Kite Me\n",
      "\n",
      "(= LZ Gvee Mid tro thes wy - Acex\n",
      "\n",
      "Atrosr owt\n",
      "i Stee Missive YO7,\n",
      "\n",
      "vy Andy Jaynes LC104\n",
      "‘by: www.gibbs-graphies.com\n",
      "\n",
      "Giss\n",
      "\n",
      "\n"
     ]
    }
   ],
   "source": [
    "import pytesseract\n",
    "from PIL import Image\n",
    "import cv2\n",
    "import numpy as np\n",
    "\n",
    "# Mention the installed location of Tesseract-OCR in your system\n",
    "pytesseract.pytesseract.tesseract_cmd = r'C:\\Program Files\\Tesseract-OCR\\tesseract.exe'\n",
    "\n",
    "# img = cv2.imread('eva.jpeg')\n",
    "# cv2.imshow('eva', img)\n",
    "# cv2.waitKey(0)\n",
    "# cv2.destroyAllWindows()\n",
    "img1 = np.array(Image.open('eva.jpeg'))\n",
    "text = pytesseract.image_to_string(img1)\n",
    "print(text)"
   ]
  },
  {
   "cell_type": "code",
   "execution_count": 8,
   "metadata": {},
   "outputs": [
    {
     "name": "stdout",
     "output_type": "stream",
     "text": [
      "['Leavenworth', 'Washington', 'LD', 'pny SWE']\n",
      "Washington, District of Columbia, United States\n"
     ]
    }
   ],
   "source": [
    "import spacy\n",
    "import pytesseract\n",
    "from PIL import Image\n",
    "import cv2\n",
    "import numpy as np\n",
    "from geopy.geocoders import Nominatim\n",
    "\n",
    "#calling the Nominatim tool\n",
    "loc = Nominatim(user_agent=\"GetLoc\")\n",
    "\n",
    "# Mention the installed location of Tesseract-OCR in your system\n",
    "pytesseract.pytesseract.tesseract_cmd = r'C:\\Program Files\\Tesseract-OCR\\tesseract.exe'\n",
    "\n",
    "img1 = np.array(Image.open('eva.jpeg'))\n",
    "text1 = pytesseract.image_to_string(img1)\n",
    "# print(text1)\n",
    "\n",
    "# Load the English language model\n",
    "nlp = spacy.load('en_core_web_sm')\n",
    "\n",
    "\n",
    "# Process the input text with spaCy\n",
    "doc = nlp(text1)\n",
    "# Extract location (GPE: Geo-Political Entity) named entities\n",
    "place_names = [ent.text for ent in doc.ents if ent.label_ == 'GPE']\n",
    "print(place_names)\n",
    "getLoc = loc.geocode(place_names[1])\n",
    "print(getLoc.address)\n",
    "\n",
    "\n",
    "# for i in place_names:\n",
    "#     getLoc = loc.geocode(place_names[i])\n",
    "#     country = getLoc.address\n",
    "#     print(country)\n",
    "\n"
   ]
  },
  {
   "cell_type": "code",
   "execution_count": 18,
   "metadata": {},
   "outputs": [
    {
     "name": "stdout",
     "output_type": "stream",
     "text": [
      "\n"
     ]
    }
   ],
   "source": [
    "from geopy.geocoders import Nominatim\n",
    "import pytesseract\n",
    "from PIL import Image\n",
    "import cv2\n",
    "import numpy as np\n",
    "\n",
    "def get_country_from_city(city_name):\n",
    "    # Initialize the Nominatim geocoder\n",
    "    geolocator = Nominatim(user_agent=\"city-to-country\")\n",
    "\n",
    "    # Geocode the city to obtain its coordinates\n",
    "    location = geolocator.geocode(city_name, language='en')\n",
    "\n",
    "    if location:\n",
    "        # Reverse geocode the coordinates to get the country name\n",
    "        country = geolocator.reverse((location.latitude, location.longitude), language='en').raw.get('address', {}).get('country')\n",
    "        return country\n",
    "    else:\n",
    "        print(f\"Could not geocode the city: {city_name}\")\n",
    "        return None\n",
    "\n",
    "# Mention the installed location of Tesseract-OCR in your system\n",
    "pytesseract.pytesseract.tesseract_cmd = r'C:\\Program Files\\Tesseract-OCR\\tesseract.exe'\n",
    "\n",
    "img1 = np.array(Image.open('sophie.jpeg'))\n",
    "text1 = pytesseract.image_to_string(img1)\n",
    "print(text1)\n",
    "\n",
    "# Load the English language model\n",
    "nlp = spacy.load('en_core_web_sm')\n",
    "\n",
    "# Process the input text with spaCy\n",
    "doc = nlp(text1)\n",
    "\n",
    "place_names = [ent.text for ent in doc.ents if ent.label_ == 'GPE']\n",
    "\n",
    "for city_name in place_names:\n",
    "    # Get the country for the given city\n",
    "    country = get_country_from_city(city_name)\n",
    "\n",
    "    # Print the country name\n",
    "    if country:\n",
    "        print(f\"{city_name} : {country}\")\n",
    "    else:\n",
    "        print(\"Country not found.\")\n"
   ]
  }
 ],
 "metadata": {
  "kernelspec": {
   "display_name": "Python 3",
   "language": "python",
   "name": "python3"
  },
  "language_info": {
   "codemirror_mode": {
    "name": "ipython",
    "version": 3
   },
   "file_extension": ".py",
   "mimetype": "text/x-python",
   "name": "python",
   "nbconvert_exporter": "python",
   "pygments_lexer": "ipython3",
   "version": "3.11.1"
  },
  "orig_nbformat": 4
 },
 "nbformat": 4,
 "nbformat_minor": 2
}
